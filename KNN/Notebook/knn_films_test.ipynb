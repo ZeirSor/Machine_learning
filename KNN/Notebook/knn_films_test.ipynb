{
 "cells": [
  {
   "cell_type": "code",
   "execution_count": 11,
   "metadata": {
    "collapsed": true,
    "pycharm": {
     "name": "#%%\n"
    }
   },
   "outputs": [],
   "source": [
    "import numpy as np\n",
    "import pandas as pd\n",
    "from sklearn.utils import shuffle"
   ]
  },
  {
   "cell_type": "code",
   "execution_count": 12,
   "outputs": [
    {
     "name": "stderr",
     "output_type": "stream",
     "text": [
      "C:\\Users\\ASUS\\.conda\\envs\\ML\\lib\\site-packages\\openpyxl\\worksheet\\_reader.py:312: UserWarning: Unknown extension is not supported and will be removed\n",
      "  warn(msg)\n"
     ]
    },
    {
     "data": {
      "text/plain": "         名字  Action Lens  Love Lens  target\n0       前任3            4         10    Love\n1       西游记           16          2  Action\n2       战狼2           18          3  Action\n3     失恋33天            2         13    Love\n4      宝贝计划            4          2  Comedy\n5       捉妖记           10         10  Action\n6      乡村爱情            3          4  Comedy\n7   阳光的快乐生活            2          3  Comedy\n8     后来的你们            2         11    Love\n9      大话西游           18          2  Action\n10   速度与激情8            3         19    Love\n11     一路向北            5         17    Love",
      "text/html": "<div>\n<style scoped>\n    .dataframe tbody tr th:only-of-type {\n        vertical-align: middle;\n    }\n\n    .dataframe tbody tr th {\n        vertical-align: top;\n    }\n\n    .dataframe thead th {\n        text-align: right;\n    }\n</style>\n<table border=\"1\" class=\"dataframe\">\n  <thead>\n    <tr style=\"text-align: right;\">\n      <th></th>\n      <th>名字</th>\n      <th>Action Lens</th>\n      <th>Love Lens</th>\n      <th>target</th>\n    </tr>\n  </thead>\n  <tbody>\n    <tr>\n      <th>0</th>\n      <td>前任3</td>\n      <td>4</td>\n      <td>10</td>\n      <td>Love</td>\n    </tr>\n    <tr>\n      <th>1</th>\n      <td>西游记</td>\n      <td>16</td>\n      <td>2</td>\n      <td>Action</td>\n    </tr>\n    <tr>\n      <th>2</th>\n      <td>战狼2</td>\n      <td>18</td>\n      <td>3</td>\n      <td>Action</td>\n    </tr>\n    <tr>\n      <th>3</th>\n      <td>失恋33天</td>\n      <td>2</td>\n      <td>13</td>\n      <td>Love</td>\n    </tr>\n    <tr>\n      <th>4</th>\n      <td>宝贝计划</td>\n      <td>4</td>\n      <td>2</td>\n      <td>Comedy</td>\n    </tr>\n    <tr>\n      <th>5</th>\n      <td>捉妖记</td>\n      <td>10</td>\n      <td>10</td>\n      <td>Action</td>\n    </tr>\n    <tr>\n      <th>6</th>\n      <td>乡村爱情</td>\n      <td>3</td>\n      <td>4</td>\n      <td>Comedy</td>\n    </tr>\n    <tr>\n      <th>7</th>\n      <td>阳光的快乐生活</td>\n      <td>2</td>\n      <td>3</td>\n      <td>Comedy</td>\n    </tr>\n    <tr>\n      <th>8</th>\n      <td>后来的你们</td>\n      <td>2</td>\n      <td>11</td>\n      <td>Love</td>\n    </tr>\n    <tr>\n      <th>9</th>\n      <td>大话西游</td>\n      <td>18</td>\n      <td>2</td>\n      <td>Action</td>\n    </tr>\n    <tr>\n      <th>10</th>\n      <td>速度与激情8</td>\n      <td>3</td>\n      <td>19</td>\n      <td>Love</td>\n    </tr>\n    <tr>\n      <th>11</th>\n      <td>一路向北</td>\n      <td>5</td>\n      <td>17</td>\n      <td>Love</td>\n    </tr>\n  </tbody>\n</table>\n</div>"
     },
     "execution_count": 12,
     "metadata": {},
     "output_type": "execute_result"
    }
   ],
   "source": [
    "data_films = pd.read_excel('../datasets/knn_films.xlsx')\n",
    "shuffle(data_films)\n",
    "data_films"
   ],
   "metadata": {
    "collapsed": false,
    "pycharm": {
     "name": "#%%\n"
    }
   }
  },
  {
   "cell_type": "code",
   "execution_count": 13,
   "outputs": [
    {
     "data": {
      "text/plain": "((12, 2), (12, 1))"
     },
     "execution_count": 13,
     "metadata": {},
     "output_type": "execute_result"
    }
   ],
   "source": [
    "dataset = data_films[['Action Lens', 'Love Lens']]\n",
    "labels = data_films['target']\n",
    "labels = np.array(labels).reshape(len(dataset), 1)\n",
    "dataset.shape, labels.shape"
   ],
   "metadata": {
    "collapsed": false,
    "pycharm": {
     "name": "#%%\n"
    }
   }
  },
  {
   "cell_type": "code",
   "execution_count": 14,
   "outputs": [],
   "source": [
    "def load_datasets(path='../datasets/knn_films.xlsx'):\n",
    "    datasets = pd.read_excel(path, encoding='utf8')\n",
    "    return datasets\n",
    "\n",
    "def train_test_spilt(datasets, train_size=0.7, random_state=True):\n",
    "    if random_state:\n",
    "        datasets = shuffle(datasets)\n",
    "    train_num = int(len(datasets) * train_size)\n",
    "\n",
    "    dataSets = np.array(datasets[['Action Lens', 'Love Lens']])\n",
    "    labels = np.array(datasets['target']).reshape(len(datasets), 1)\n",
    "    train_set, train_label = dataSets[:train_num, :], labels[:train_num, :]\n",
    "    test_set, test_label = dataSets[train_num:len(datasets), :], labels[:train_num:len(datasets), :]\n",
    "\n",
    "    return train_set, train_label, test_set, test_label"
   ],
   "metadata": {
    "collapsed": false,
    "pycharm": {
     "name": "#%%\n"
    }
   }
  },
  {
   "cell_type": "code",
   "execution_count": 29,
   "outputs": [
    {
     "name": "stdout",
     "output_type": "stream",
     "text": [
      "[[10 10]\n",
      " [18  3]\n",
      " [ 5 17]\n",
      " [ 2  3]\n",
      " [ 2 11]\n",
      " [ 3  4]\n",
      " [16  2]\n",
      " [ 2 13]] [['Action']\n",
      " ['Action']\n",
      " ['Love']\n",
      " ['Comedy']\n",
      " ['Love']\n",
      " ['Comedy']\n",
      " ['Action']\n",
      " ['Love']] [[ 4  2]\n",
      " [ 4 10]\n",
      " [ 3 19]\n",
      " [18  2]] [['Action']]\n"
     ]
    },
    {
     "name": "stderr",
     "output_type": "stream",
     "text": [
      "C:\\Users\\ASUS\\.conda\\envs\\ML\\lib\\site-packages\\openpyxl\\worksheet\\_reader.py:312: UserWarning: Unknown extension is not supported and will be removed\n",
      "  warn(msg)\n"
     ]
    }
   ],
   "source": [
    "# print(train_test_spilt(load_datasets()))\n",
    "train_set, train_label, test_set, test_label = train_test_spilt((load_datasets()))\n",
    "print(train_set, train_label, test_set, test_label)"
   ],
   "metadata": {
    "collapsed": false,
    "pycharm": {
     "name": "#%%\n"
    }
   }
  },
  {
   "cell_type": "code",
   "execution_count": 27,
   "outputs": [
    {
     "name": "stdout",
     "output_type": "stream",
     "text": [
      "[[2 2 2]\n",
      " [4 5 6]\n",
      " [8 4 6]]\n"
     ]
    }
   ],
   "source": [
    "a = np.array([[1, 1, 1], [2, 3, 4], [5, 1, 3]])\n",
    "b = np.array([1, 2, 3]).reshape(3 ,1)\n",
    "c = a + b\n",
    "print(c)"
   ],
   "metadata": {
    "collapsed": false,
    "pycharm": {
     "name": "#%%\n"
    }
   }
  },
  {
   "cell_type": "code",
   "execution_count": null,
   "outputs": [],
   "source": [
    "from sklearn.preprocessing import MinMaxScaler\n",
    "mm = MinMaxScaler()\n",
    "res = mm.fit_transform(c)\n",
    "print(res)"
   ],
   "metadata": {
    "collapsed": false,
    "pycharm": {
     "name": "#%%\n"
    }
   }
  },
  {
   "cell_type": "code",
   "execution_count": 31,
   "outputs": [
    {
     "name": "stdout",
     "output_type": "stream",
     "text": [
      "[[0.5        0.53333333]\n",
      " [1.         0.06666667]\n",
      " [0.1875     1.        ]\n",
      " [0.         0.06666667]\n",
      " [0.         0.6       ]\n",
      " [0.0625     0.13333333]\n",
      " [0.875      0.        ]\n",
      " [0.         0.73333333]]\n"
     ]
    }
   ],
   "source": [
    "normalized = mm.fit_transform(train_set)\n",
    "print(normalized)"
   ],
   "metadata": {
    "collapsed": false,
    "pycharm": {
     "name": "#%%\n"
    }
   }
  },
  {
   "cell_type": "code",
   "execution_count": 34,
   "outputs": [],
   "source": [
    "def feature_preprocessing(datasets, Normalized=True):\n",
    "    X_pre = None\n",
    "    if Normalized:\n",
    "        data_max = np.max(datasets, axis=0)\n",
    "        data_min = np.min(datasets, axis=0)\n",
    "        X_pre = (datasets - data_min) / (data_max - data_min)\n",
    "    else:\n",
    "        mean = np.mean(datasets, axis=0)\n",
    "        std = np.std(datasets, axis=0)\n",
    "        X_pre = (datasets - mean) / std\n",
    "\n",
    "    return X_pre"
   ],
   "metadata": {
    "collapsed": false,
    "pycharm": {
     "name": "#%%\n"
    }
   }
  },
  {
   "cell_type": "code",
   "execution_count": 36,
   "outputs": [
    {
     "data": {
      "text/plain": "array([[0.5       , 0.53333333],\n       [1.        , 0.06666667],\n       [0.1875    , 1.        ],\n       [0.        , 0.06666667],\n       [0.        , 0.6       ],\n       [0.0625    , 0.13333333],\n       [0.875     , 0.        ],\n       [0.        , 0.73333333]])"
     },
     "execution_count": 36,
     "metadata": {},
     "output_type": "execute_result"
    }
   ],
   "source": [
    "feature_preprocessing(train_set)"
   ],
   "metadata": {
    "collapsed": false,
    "pycharm": {
     "name": "#%%\n"
    }
   }
  },
  {
   "cell_type": "code",
   "execution_count": 37,
   "outputs": [
    {
     "ename": "ValueError",
     "evalue": "cannot reshape array of size 6 into shape (3,1)",
     "output_type": "error",
     "traceback": [
      "\u001B[1;31m---------------------------------------------------------------------------\u001B[0m",
      "\u001B[1;31mValueError\u001B[0m                                Traceback (most recent call last)",
      "Input \u001B[1;32mIn [37]\u001B[0m, in \u001B[0;36m<cell line: 2>\u001B[1;34m()\u001B[0m\n\u001B[0;32m      1\u001B[0m a \u001B[38;5;241m=\u001B[39m np\u001B[38;5;241m.\u001B[39marray([[\u001B[38;5;241m1\u001B[39m, \u001B[38;5;241m1\u001B[39m, \u001B[38;5;241m1\u001B[39m], [\u001B[38;5;241m2\u001B[39m, \u001B[38;5;241m3\u001B[39m, \u001B[38;5;241m4\u001B[39m], [\u001B[38;5;241m5\u001B[39m, \u001B[38;5;241m1\u001B[39m, \u001B[38;5;241m3\u001B[39m]])\n\u001B[1;32m----> 2\u001B[0m b \u001B[38;5;241m=\u001B[39m \u001B[43mnp\u001B[49m\u001B[38;5;241;43m.\u001B[39;49m\u001B[43marray\u001B[49m\u001B[43m(\u001B[49m\u001B[43m[\u001B[49m\u001B[43m[\u001B[49m\u001B[38;5;241;43m1\u001B[39;49m\u001B[43m,\u001B[49m\u001B[43m \u001B[49m\u001B[38;5;241;43m2\u001B[39;49m\u001B[43m,\u001B[49m\u001B[43m \u001B[49m\u001B[38;5;241;43m3\u001B[39;49m\u001B[43m]\u001B[49m\u001B[43m,\u001B[49m\u001B[43m \u001B[49m\u001B[43m[\u001B[49m\u001B[38;5;241;43m2\u001B[39;49m\u001B[43m,\u001B[49m\u001B[43m \u001B[49m\u001B[38;5;241;43m1\u001B[39;49m\u001B[43m,\u001B[49m\u001B[43m \u001B[49m\u001B[38;5;241;43m3\u001B[39;49m\u001B[43m]\u001B[49m\u001B[43m]\u001B[49m\u001B[43m)\u001B[49m\u001B[38;5;241;43m.\u001B[39;49m\u001B[43mreshape\u001B[49m\u001B[43m(\u001B[49m\u001B[38;5;241;43m3\u001B[39;49m\u001B[43m \u001B[49m\u001B[43m,\u001B[49m\u001B[38;5;241;43m1\u001B[39;49m\u001B[43m)\u001B[49m\n\u001B[0;32m      3\u001B[0m a \u001B[38;5;241m-\u001B[39m b\n",
      "\u001B[1;31mValueError\u001B[0m: cannot reshape array of size 6 into shape (3,1)"
     ]
    }
   ],
   "source": [
    "a = np.array([[1, 1, 1], [2, 3, 4], [5, 1, 3]])\n",
    "b = np.array([[1, 2, 3], [2, 1, 3]]).reshape(3 ,1)\n"
   ],
   "metadata": {
    "collapsed": false,
    "pycharm": {
     "name": "#%%\n"
    }
   }
  },
  {
   "cell_type": "code",
   "execution_count": 45,
   "outputs": [],
   "source": [
    "def calc_dist(a, b):\n",
    "    dist = []\n",
    "    for x in b:\n",
    "        dist.append(np.sum((x - a) ** 2, axis=1) ** 0.5)\n",
    "    return dist"
   ],
   "metadata": {
    "collapsed": false,
    "pycharm": {
     "name": "#%%\n"
    }
   }
  },
  {
   "cell_type": "code",
   "execution_count": 47,
   "outputs": [
    {
     "data": {
      "text/plain": "[array([0.        , 3.74165739, 4.47213595]),\n array([1.73205081, 2.23606798, 3.31662479]),\n array([3.46410162, 1.41421356, 2.82842712])]"
     },
     "execution_count": 47,
     "metadata": {},
     "output_type": "execute_result"
    }
   ],
   "source": [
    "res = calc_dist(a, b)\n",
    "res"
   ],
   "metadata": {
    "collapsed": false,
    "pycharm": {
     "name": "#%%\n"
    }
   }
  },
  {
   "cell_type": "code",
   "execution_count": 48,
   "outputs": [
    {
     "data": {
      "text/plain": "array([0.        , 3.74165739, 4.47213595])"
     },
     "execution_count": 48,
     "metadata": {},
     "output_type": "execute_result"
    }
   ],
   "source": [
    "res[0]"
   ],
   "metadata": {
    "collapsed": false,
    "pycharm": {
     "name": "#%%\n"
    }
   }
  },
  {
   "cell_type": "code",
   "execution_count": 55,
   "outputs": [
    {
     "data": {
      "text/plain": "array([1, 2, 0], dtype=int64)"
     },
     "execution_count": 55,
     "metadata": {},
     "output_type": "execute_result"
    }
   ],
   "source": [
    "index = np.argsort(res[2])\n",
    "index"
   ],
   "metadata": {
    "collapsed": false,
    "pycharm": {
     "name": "#%%\n"
    }
   }
  },
  {
   "cell_type": "code",
   "execution_count": 56,
   "outputs": [
    {
     "data": {
      "text/plain": "array([1, 2], dtype=int64)"
     },
     "execution_count": 56,
     "metadata": {},
     "output_type": "execute_result"
    }
   ],
   "source": [],
   "metadata": {
    "collapsed": false,
    "pycharm": {
     "name": "#%%\n"
    }
   }
  },
  {
   "cell_type": "code",
   "execution_count": 58,
   "outputs": [
    {
     "name": "stdout",
     "output_type": "stream",
     "text": [
      "[[2]\n",
      " [7]\n",
      " [5]\n",
      " [1]\n",
      " [4]\n",
      " [2]\n",
      " [0]\n",
      " [9]\n",
      " [6]\n",
      " [8]]\n"
     ]
    }
   ],
   "source": [
    "a = np.random.randint(0, 10, size=(10, 1))\n",
    "print(a)"
   ],
   "metadata": {
    "collapsed": false,
    "pycharm": {
     "name": "#%%\n"
    }
   }
  },
  {
   "cell_type": "code",
   "execution_count": 61,
   "outputs": [
    {
     "name": "stdout",
     "output_type": "stream",
     "text": [
      "[2 7 5 1 4 2 0 9 6 8]\n"
     ]
    }
   ],
   "source": [
    "print(a.reshape(-1))"
   ],
   "metadata": {
    "collapsed": false,
    "pycharm": {
     "name": "#%%\n"
    }
   }
  },
  {
   "cell_type": "code",
   "execution_count": 64,
   "outputs": [],
   "source": [
    "import pandas as pd\n",
    "import numpy as np\n",
    "from sklearn.model_selection import train_test_split\n",
    "from sklearn.datasets import load_iris"
   ],
   "metadata": {
    "collapsed": false,
    "pycharm": {
     "name": "#%%\n"
    }
   }
  },
  {
   "cell_type": "code",
   "execution_count": 65,
   "outputs": [
    {
     "data": {
      "text/plain": "((150, 4), (150,))"
     },
     "execution_count": 65,
     "metadata": {},
     "output_type": "execute_result"
    }
   ],
   "source": [
    "iris = load_iris()\n",
    "feature = iris['data']\n",
    "target = iris['target']\n",
    "feature.shape,target.shape"
   ],
   "metadata": {
    "collapsed": false,
    "pycharm": {
     "name": "#%%\n"
    }
   }
  },
  {
   "cell_type": "code",
   "execution_count": 68,
   "outputs": [
    {
     "name": "stdout",
     "output_type": "stream",
     "text": [
      "[0 0 0 0 0 0 0 0 0 0 0 0 0 0 0 0 0 0 0 0 0 0 0 0 0 0 0 0 0 0 0 0 0 0 0 0 0\n",
      " 0 0 0 0 0 0 0 0 0 0 0 0 0 1 1 1 1 1 1 1 1 1 1 1 1 1 1 1 1 1 1 1 1 1 1 1 1\n",
      " 1 1 1 1 1 1 1 1 1 1 1 1 1 1 1 1 1 1 1 1 1 1 1 1 1 1 2 2 2 2 2 2 2 2 2 2 2\n",
      " 2 2 2 2 2 2 2 2 2 2 2 2 2 2 2 2 2 2 2 2 2 2 2 2 2 2 2 2 2 2 2 2 2 2 2 2 2\n",
      " 2 2]\n"
     ]
    }
   ],
   "source": [
    "print(np.array(target))"
   ],
   "metadata": {
    "collapsed": false,
    "pycharm": {
     "name": "#%%\n"
    }
   }
  },
  {
   "cell_type": "code",
   "execution_count": 72,
   "outputs": [
    {
     "name": "stdout",
     "output_type": "stream",
     "text": [
      "['Love' 'Action' 'Action' 'Love' 'Comedy' 'Action' 'Comedy' 'Comedy'\n",
      " 'Love' 'Action' 'Love' 'Love']\n"
     ]
    },
    {
     "name": "stderr",
     "output_type": "stream",
     "text": [
      "C:\\Users\\ASUS\\.conda\\envs\\ML\\lib\\site-packages\\openpyxl\\worksheet\\_reader.py:312: UserWarning: Unknown extension is not supported and will be removed\n",
      "  warn(msg)\n"
     ]
    }
   ],
   "source": [
    "print(np.array(load_datasets()['target']))"
   ],
   "metadata": {
    "collapsed": false,
    "pycharm": {
     "name": "#%%\n"
    }
   }
  },
  {
   "cell_type": "code",
   "execution_count": 73,
   "outputs": [],
   "source": [
    "from sklearn.utils import shuffle\n",
    "datasets = load_iris()"
   ],
   "metadata": {
    "collapsed": false,
    "pycharm": {
     "name": "#%%\n"
    }
   }
  },
  {
   "cell_type": "code",
   "execution_count": 74,
   "outputs": [
    {
     "data": {
      "text/plain": "{'data': array([[5.1, 3.5, 1.4, 0.2],\n        [4.9, 3. , 1.4, 0.2],\n        [4.7, 3.2, 1.3, 0.2],\n        [4.6, 3.1, 1.5, 0.2],\n        [5. , 3.6, 1.4, 0.2],\n        [5.4, 3.9, 1.7, 0.4],\n        [4.6, 3.4, 1.4, 0.3],\n        [5. , 3.4, 1.5, 0.2],\n        [4.4, 2.9, 1.4, 0.2],\n        [4.9, 3.1, 1.5, 0.1],\n        [5.4, 3.7, 1.5, 0.2],\n        [4.8, 3.4, 1.6, 0.2],\n        [4.8, 3. , 1.4, 0.1],\n        [4.3, 3. , 1.1, 0.1],\n        [5.8, 4. , 1.2, 0.2],\n        [5.7, 4.4, 1.5, 0.4],\n        [5.4, 3.9, 1.3, 0.4],\n        [5.1, 3.5, 1.4, 0.3],\n        [5.7, 3.8, 1.7, 0.3],\n        [5.1, 3.8, 1.5, 0.3],\n        [5.4, 3.4, 1.7, 0.2],\n        [5.1, 3.7, 1.5, 0.4],\n        [4.6, 3.6, 1. , 0.2],\n        [5.1, 3.3, 1.7, 0.5],\n        [4.8, 3.4, 1.9, 0.2],\n        [5. , 3. , 1.6, 0.2],\n        [5. , 3.4, 1.6, 0.4],\n        [5.2, 3.5, 1.5, 0.2],\n        [5.2, 3.4, 1.4, 0.2],\n        [4.7, 3.2, 1.6, 0.2],\n        [4.8, 3.1, 1.6, 0.2],\n        [5.4, 3.4, 1.5, 0.4],\n        [5.2, 4.1, 1.5, 0.1],\n        [5.5, 4.2, 1.4, 0.2],\n        [4.9, 3.1, 1.5, 0.2],\n        [5. , 3.2, 1.2, 0.2],\n        [5.5, 3.5, 1.3, 0.2],\n        [4.9, 3.6, 1.4, 0.1],\n        [4.4, 3. , 1.3, 0.2],\n        [5.1, 3.4, 1.5, 0.2],\n        [5. , 3.5, 1.3, 0.3],\n        [4.5, 2.3, 1.3, 0.3],\n        [4.4, 3.2, 1.3, 0.2],\n        [5. , 3.5, 1.6, 0.6],\n        [5.1, 3.8, 1.9, 0.4],\n        [4.8, 3. , 1.4, 0.3],\n        [5.1, 3.8, 1.6, 0.2],\n        [4.6, 3.2, 1.4, 0.2],\n        [5.3, 3.7, 1.5, 0.2],\n        [5. , 3.3, 1.4, 0.2],\n        [7. , 3.2, 4.7, 1.4],\n        [6.4, 3.2, 4.5, 1.5],\n        [6.9, 3.1, 4.9, 1.5],\n        [5.5, 2.3, 4. , 1.3],\n        [6.5, 2.8, 4.6, 1.5],\n        [5.7, 2.8, 4.5, 1.3],\n        [6.3, 3.3, 4.7, 1.6],\n        [4.9, 2.4, 3.3, 1. ],\n        [6.6, 2.9, 4.6, 1.3],\n        [5.2, 2.7, 3.9, 1.4],\n        [5. , 2. , 3.5, 1. ],\n        [5.9, 3. , 4.2, 1.5],\n        [6. , 2.2, 4. , 1. ],\n        [6.1, 2.9, 4.7, 1.4],\n        [5.6, 2.9, 3.6, 1.3],\n        [6.7, 3.1, 4.4, 1.4],\n        [5.6, 3. , 4.5, 1.5],\n        [5.8, 2.7, 4.1, 1. ],\n        [6.2, 2.2, 4.5, 1.5],\n        [5.6, 2.5, 3.9, 1.1],\n        [5.9, 3.2, 4.8, 1.8],\n        [6.1, 2.8, 4. , 1.3],\n        [6.3, 2.5, 4.9, 1.5],\n        [6.1, 2.8, 4.7, 1.2],\n        [6.4, 2.9, 4.3, 1.3],\n        [6.6, 3. , 4.4, 1.4],\n        [6.8, 2.8, 4.8, 1.4],\n        [6.7, 3. , 5. , 1.7],\n        [6. , 2.9, 4.5, 1.5],\n        [5.7, 2.6, 3.5, 1. ],\n        [5.5, 2.4, 3.8, 1.1],\n        [5.5, 2.4, 3.7, 1. ],\n        [5.8, 2.7, 3.9, 1.2],\n        [6. , 2.7, 5.1, 1.6],\n        [5.4, 3. , 4.5, 1.5],\n        [6. , 3.4, 4.5, 1.6],\n        [6.7, 3.1, 4.7, 1.5],\n        [6.3, 2.3, 4.4, 1.3],\n        [5.6, 3. , 4.1, 1.3],\n        [5.5, 2.5, 4. , 1.3],\n        [5.5, 2.6, 4.4, 1.2],\n        [6.1, 3. , 4.6, 1.4],\n        [5.8, 2.6, 4. , 1.2],\n        [5. , 2.3, 3.3, 1. ],\n        [5.6, 2.7, 4.2, 1.3],\n        [5.7, 3. , 4.2, 1.2],\n        [5.7, 2.9, 4.2, 1.3],\n        [6.2, 2.9, 4.3, 1.3],\n        [5.1, 2.5, 3. , 1.1],\n        [5.7, 2.8, 4.1, 1.3],\n        [6.3, 3.3, 6. , 2.5],\n        [5.8, 2.7, 5.1, 1.9],\n        [7.1, 3. , 5.9, 2.1],\n        [6.3, 2.9, 5.6, 1.8],\n        [6.5, 3. , 5.8, 2.2],\n        [7.6, 3. , 6.6, 2.1],\n        [4.9, 2.5, 4.5, 1.7],\n        [7.3, 2.9, 6.3, 1.8],\n        [6.7, 2.5, 5.8, 1.8],\n        [7.2, 3.6, 6.1, 2.5],\n        [6.5, 3.2, 5.1, 2. ],\n        [6.4, 2.7, 5.3, 1.9],\n        [6.8, 3. , 5.5, 2.1],\n        [5.7, 2.5, 5. , 2. ],\n        [5.8, 2.8, 5.1, 2.4],\n        [6.4, 3.2, 5.3, 2.3],\n        [6.5, 3. , 5.5, 1.8],\n        [7.7, 3.8, 6.7, 2.2],\n        [7.7, 2.6, 6.9, 2.3],\n        [6. , 2.2, 5. , 1.5],\n        [6.9, 3.2, 5.7, 2.3],\n        [5.6, 2.8, 4.9, 2. ],\n        [7.7, 2.8, 6.7, 2. ],\n        [6.3, 2.7, 4.9, 1.8],\n        [6.7, 3.3, 5.7, 2.1],\n        [7.2, 3.2, 6. , 1.8],\n        [6.2, 2.8, 4.8, 1.8],\n        [6.1, 3. , 4.9, 1.8],\n        [6.4, 2.8, 5.6, 2.1],\n        [7.2, 3. , 5.8, 1.6],\n        [7.4, 2.8, 6.1, 1.9],\n        [7.9, 3.8, 6.4, 2. ],\n        [6.4, 2.8, 5.6, 2.2],\n        [6.3, 2.8, 5.1, 1.5],\n        [6.1, 2.6, 5.6, 1.4],\n        [7.7, 3. , 6.1, 2.3],\n        [6.3, 3.4, 5.6, 2.4],\n        [6.4, 3.1, 5.5, 1.8],\n        [6. , 3. , 4.8, 1.8],\n        [6.9, 3.1, 5.4, 2.1],\n        [6.7, 3.1, 5.6, 2.4],\n        [6.9, 3.1, 5.1, 2.3],\n        [5.8, 2.7, 5.1, 1.9],\n        [6.8, 3.2, 5.9, 2.3],\n        [6.7, 3.3, 5.7, 2.5],\n        [6.7, 3. , 5.2, 2.3],\n        [6.3, 2.5, 5. , 1.9],\n        [6.5, 3. , 5.2, 2. ],\n        [6.2, 3.4, 5.4, 2.3],\n        [5.9, 3. , 5.1, 1.8]]),\n 'target': array([0, 0, 0, 0, 0, 0, 0, 0, 0, 0, 0, 0, 0, 0, 0, 0, 0, 0, 0, 0, 0, 0,\n        0, 0, 0, 0, 0, 0, 0, 0, 0, 0, 0, 0, 0, 0, 0, 0, 0, 0, 0, 0, 0, 0,\n        0, 0, 0, 0, 0, 0, 1, 1, 1, 1, 1, 1, 1, 1, 1, 1, 1, 1, 1, 1, 1, 1,\n        1, 1, 1, 1, 1, 1, 1, 1, 1, 1, 1, 1, 1, 1, 1, 1, 1, 1, 1, 1, 1, 1,\n        1, 1, 1, 1, 1, 1, 1, 1, 1, 1, 1, 1, 2, 2, 2, 2, 2, 2, 2, 2, 2, 2,\n        2, 2, 2, 2, 2, 2, 2, 2, 2, 2, 2, 2, 2, 2, 2, 2, 2, 2, 2, 2, 2, 2,\n        2, 2, 2, 2, 2, 2, 2, 2, 2, 2, 2, 2, 2, 2, 2, 2, 2, 2]),\n 'frame': None,\n 'target_names': array(['setosa', 'versicolor', 'virginica'], dtype='<U10'),\n 'DESCR': '.. _iris_dataset:\\n\\nIris plants dataset\\n--------------------\\n\\n**Data Set Characteristics:**\\n\\n    :Number of Instances: 150 (50 in each of three classes)\\n    :Number of Attributes: 4 numeric, predictive attributes and the class\\n    :Attribute Information:\\n        - sepal length in cm\\n        - sepal width in cm\\n        - petal length in cm\\n        - petal width in cm\\n        - class:\\n                - Iris-Setosa\\n                - Iris-Versicolour\\n                - Iris-Virginica\\n                \\n    :Summary Statistics:\\n\\n    ============== ==== ==== ======= ===== ====================\\n                    Min  Max   Mean    SD   Class Correlation\\n    ============== ==== ==== ======= ===== ====================\\n    sepal length:   4.3  7.9   5.84   0.83    0.7826\\n    sepal width:    2.0  4.4   3.05   0.43   -0.4194\\n    petal length:   1.0  6.9   3.76   1.76    0.9490  (high!)\\n    petal width:    0.1  2.5   1.20   0.76    0.9565  (high!)\\n    ============== ==== ==== ======= ===== ====================\\n\\n    :Missing Attribute Values: None\\n    :Class Distribution: 33.3% for each of 3 classes.\\n    :Creator: R.A. Fisher\\n    :Donor: Michael Marshall (MARSHALL%PLU@io.arc.nasa.gov)\\n    :Date: July, 1988\\n\\nThe famous Iris database, first used by Sir R.A. Fisher. The dataset is taken\\nfrom Fisher\\'s paper. Note that it\\'s the same as in R, but not as in the UCI\\nMachine Learning Repository, which has two wrong data points.\\n\\nThis is perhaps the best known database to be found in the\\npattern recognition literature.  Fisher\\'s paper is a classic in the field and\\nis referenced frequently to this day.  (See Duda & Hart, for example.)  The\\ndata set contains 3 classes of 50 instances each, where each class refers to a\\ntype of iris plant.  One class is linearly separable from the other 2; the\\nlatter are NOT linearly separable from each other.\\n\\n.. topic:: References\\n\\n   - Fisher, R.A. \"The use of multiple measurements in taxonomic problems\"\\n     Annual Eugenics, 7, Part II, 179-188 (1936); also in \"Contributions to\\n     Mathematical Statistics\" (John Wiley, NY, 1950).\\n   - Duda, R.O., & Hart, P.E. (1973) Pattern Classification and Scene Analysis.\\n     (Q327.D83) John Wiley & Sons.  ISBN 0-471-22361-1.  See page 218.\\n   - Dasarathy, B.V. (1980) \"Nosing Around the Neighborhood: A New System\\n     Structure and Classification Rule for Recognition in Partially Exposed\\n     Environments\".  IEEE Transactions on Pattern Analysis and Machine\\n     Intelligence, Vol. PAMI-2, No. 1, 67-71.\\n   - Gates, G.W. (1972) \"The Reduced Nearest Neighbor Rule\".  IEEE Transactions\\n     on Information Theory, May 1972, 431-433.\\n   - See also: 1988 MLC Proceedings, 54-64.  Cheeseman et al\"s AUTOCLASS II\\n     conceptual clustering system finds 3 classes in the data.\\n   - Many, many more ...',\n 'feature_names': ['sepal length (cm)',\n  'sepal width (cm)',\n  'petal length (cm)',\n  'petal width (cm)'],\n 'filename': 'iris.csv',\n 'data_module': 'sklearn.datasets.data'}"
     },
     "execution_count": 74,
     "metadata": {},
     "output_type": "execute_result"
    }
   ],
   "source": [
    "datasets"
   ],
   "metadata": {
    "collapsed": false,
    "pycharm": {
     "name": "#%%\n"
    }
   }
  },
  {
   "cell_type": "code",
   "execution_count": 92,
   "outputs": [],
   "source": [
    "feature = np.array(datasets['data'])\n",
    "labels = np.array(datasets['target']).reshape(-1, 1)\n",
    "feature.shape, labels.shape\n",
    "res = np.concatenate((feature, labels), axis=1)"
   ],
   "metadata": {
    "collapsed": false,
    "pycharm": {
     "name": "#%%\n"
    }
   }
  },
  {
   "cell_type": "code",
   "execution_count": 94,
   "outputs": [
    {
     "data": {
      "text/plain": "array([[6.9, 3.1, 5.4, 2.1, 2. ],\n       [7.9, 3.8, 6.4, 2. , 2. ],\n       [6.5, 3.2, 5.1, 2. , 2. ],\n       [5. , 3. , 1.6, 0.2, 0. ],\n       [5.1, 3.4, 1.5, 0.2, 0. ],\n       [5.7, 2.9, 4.2, 1.3, 1. ],\n       [6.3, 2.5, 4.9, 1.5, 1. ],\n       [5.1, 3.8, 1.9, 0.4, 0. ],\n       [7.1, 3. , 5.9, 2.1, 2. ],\n       [5.5, 2.4, 3.8, 1.1, 1. ],\n       [6.4, 3.1, 5.5, 1.8, 2. ],\n       [7. , 3.2, 4.7, 1.4, 1. ],\n       [5. , 3.4, 1.5, 0.2, 0. ],\n       [4.6, 3.6, 1. , 0.2, 0. ],\n       [5.1, 3.5, 1.4, 0.3, 0. ],\n       [6.4, 2.8, 5.6, 2.1, 2. ],\n       [7.2, 3. , 5.8, 1.6, 2. ],\n       [6.6, 2.9, 4.6, 1.3, 1. ],\n       [4.3, 3. , 1.1, 0.1, 0. ],\n       [5.7, 4.4, 1.5, 0.4, 0. ],\n       [5.9, 3. , 5.1, 1.8, 2. ],\n       [4.8, 3. , 1.4, 0.1, 0. ],\n       [5.8, 2.7, 4.1, 1. , 1. ],\n       [5.8, 4. , 1.2, 0.2, 0. ],\n       [5. , 3.2, 1.2, 0.2, 0. ],\n       [5.4, 3.4, 1.5, 0.4, 0. ],\n       [5.7, 2.8, 4.5, 1.3, 1. ],\n       [4.9, 2.4, 3.3, 1. , 1. ],\n       [5.1, 3.7, 1.5, 0.4, 0. ],\n       [5.5, 2.4, 3.7, 1. , 1. ],\n       [5.2, 3.4, 1.4, 0.2, 0. ],\n       [5.7, 2.5, 5. , 2. , 2. ],\n       [6.3, 3.3, 4.7, 1.6, 1. ],\n       [6.7, 3.1, 5.6, 2.4, 2. ],\n       [6.1, 3. , 4.6, 1.4, 1. ],\n       [5.5, 2.3, 4. , 1.3, 1. ],\n       [6.3, 2.3, 4.4, 1.3, 1. ],\n       [5.9, 3. , 4.2, 1.5, 1. ],\n       [6.2, 2.8, 4.8, 1.8, 2. ],\n       [4.8, 3. , 1.4, 0.3, 0. ],\n       [5.3, 3.7, 1.5, 0.2, 0. ],\n       [7.7, 2.8, 6.7, 2. , 2. ],\n       [7.4, 2.8, 6.1, 1.9, 2. ],\n       [6.5, 2.8, 4.6, 1.5, 1. ],\n       [5.5, 2.5, 4. , 1.3, 1. ],\n       [4.4, 3.2, 1.3, 0.2, 0. ],\n       [6. , 3.4, 4.5, 1.6, 1. ],\n       [6.4, 2.9, 4.3, 1.3, 1. ],\n       [7.3, 2.9, 6.3, 1.8, 2. ],\n       [6.1, 3. , 4.9, 1.8, 2. ],\n       [5.1, 3.8, 1.6, 0.2, 0. ],\n       [6.2, 3.4, 5.4, 2.3, 2. ],\n       [4.5, 2.3, 1.3, 0.3, 0. ],\n       [6.3, 3.3, 6. , 2.5, 2. ],\n       [6.7, 2.5, 5.8, 1.8, 2. ],\n       [5.5, 4.2, 1.4, 0.2, 0. ],\n       [5. , 3.5, 1.6, 0.6, 0. ],\n       [5. , 3.3, 1.4, 0.2, 0. ],\n       [6.3, 2.8, 5.1, 1.5, 2. ],\n       [6.4, 2.7, 5.3, 1.9, 2. ],\n       [5.4, 3. , 4.5, 1.5, 1. ],\n       [5.6, 3. , 4.5, 1.5, 1. ],\n       [5.8, 2.7, 3.9, 1.2, 1. ],\n       [6.9, 3.2, 5.7, 2.3, 2. ],\n       [5. , 2.3, 3.3, 1. , 1. ],\n       [4.7, 3.2, 1.3, 0.2, 0. ],\n       [6.4, 3.2, 5.3, 2.3, 2. ],\n       [5.1, 3.8, 1.5, 0.3, 0. ],\n       [6.1, 2.6, 5.6, 1.4, 2. ],\n       [6.3, 2.7, 4.9, 1.8, 2. ],\n       [5.6, 2.9, 3.6, 1.3, 1. ],\n       [5.6, 2.8, 4.9, 2. , 2. ],\n       [4.9, 3.6, 1.4, 0.1, 0. ],\n       [5.7, 3.8, 1.7, 0.3, 0. ],\n       [4.9, 3. , 1.4, 0.2, 0. ],\n       [5. , 2. , 3.5, 1. , 1. ],\n       [5.2, 2.7, 3.9, 1.4, 1. ],\n       [6.7, 3. , 5. , 1.7, 1. ],\n       [5.1, 3.3, 1.7, 0.5, 0. ],\n       [5.8, 2.7, 5.1, 1.9, 2. ],\n       [6.5, 3. , 5.2, 2. , 2. ],\n       [5.7, 2.8, 4.1, 1.3, 1. ],\n       [5.1, 2.5, 3. , 1.1, 1. ],\n       [4.9, 3.1, 1.5, 0.1, 0. ],\n       [5.2, 3.5, 1.5, 0.2, 0. ],\n       [5.5, 2.6, 4.4, 1.2, 1. ],\n       [5.8, 2.8, 5.1, 2.4, 2. ],\n       [5.7, 3. , 4.2, 1.2, 1. ],\n       [5.4, 3.9, 1.3, 0.4, 0. ],\n       [5. , 3.4, 1.6, 0.4, 0. ],\n       [6.8, 3.2, 5.9, 2.3, 2. ],\n       [6.7, 3.1, 4.7, 1.5, 1. ],\n       [5.2, 4.1, 1.5, 0.1, 0. ],\n       [5. , 3.5, 1.3, 0.3, 0. ],\n       [7.2, 3.6, 6.1, 2.5, 2. ],\n       [5.6, 2.5, 3.9, 1.1, 1. ],\n       [5.8, 2.7, 5.1, 1.9, 2. ],\n       [5.5, 3.5, 1.3, 0.2, 0. ],\n       [6.8, 2.8, 4.8, 1.4, 1. ],\n       [7.7, 3.8, 6.7, 2.2, 2. ],\n       [6.1, 2.9, 4.7, 1.4, 1. ],\n       [6.3, 2.5, 5. , 1.9, 2. ],\n       [7.7, 2.6, 6.9, 2.3, 2. ],\n       [5.1, 3.5, 1.4, 0.2, 0. ],\n       [6. , 2.7, 5.1, 1.6, 1. ],\n       [4.9, 3.1, 1.5, 0.2, 0. ],\n       [4.7, 3.2, 1.6, 0.2, 0. ],\n       [4.9, 2.5, 4.5, 1.7, 2. ],\n       [6.4, 2.8, 5.6, 2.2, 2. ],\n       [6.4, 3.2, 4.5, 1.5, 1. ],\n       [6.7, 3. , 5.2, 2.3, 2. ],\n       [7.6, 3. , 6.6, 2.1, 2. ],\n       [6.3, 2.9, 5.6, 1.8, 2. ],\n       [5.7, 2.6, 3.5, 1. , 1. ],\n       [5.4, 3.4, 1.7, 0.2, 0. ],\n       [4.6, 3.2, 1.4, 0.2, 0. ],\n       [6.1, 2.8, 4. , 1.3, 1. ],\n       [4.8, 3.4, 1.6, 0.2, 0. ],\n       [6.5, 3. , 5.5, 1.8, 2. ],\n       [6.6, 3. , 4.4, 1.4, 1. ],\n       [6. , 2.9, 4.5, 1.5, 1. ],\n       [6. , 3. , 4.8, 1.8, 2. ],\n       [5. , 3.6, 1.4, 0.2, 0. ],\n       [6.7, 3.1, 4.4, 1.4, 1. ],\n       [6.7, 3.3, 5.7, 2.1, 2. ],\n       [4.4, 3. , 1.3, 0.2, 0. ],\n       [7.7, 3. , 6.1, 2.3, 2. ],\n       [6. , 2.2, 5. , 1.5, 2. ],\n       [5.4, 3.7, 1.5, 0.2, 0. ],\n       [4.6, 3.4, 1.4, 0.3, 0. ],\n       [6.7, 3.3, 5.7, 2.5, 2. ],\n       [5.6, 3. , 4.1, 1.3, 1. ],\n       [5.9, 3.2, 4.8, 1.8, 1. ],\n       [6.8, 3. , 5.5, 2.1, 2. ],\n       [4.8, 3.4, 1.9, 0.2, 0. ],\n       [6.3, 3.4, 5.6, 2.4, 2. ],\n       [5.8, 2.6, 4. , 1.2, 1. ],\n       [6.9, 3.1, 4.9, 1.5, 1. ],\n       [6.1, 2.8, 4.7, 1.2, 1. ],\n       [7.2, 3.2, 6. , 1.8, 2. ],\n       [5.6, 2.7, 4.2, 1.3, 1. ],\n       [4.6, 3.1, 1.5, 0.2, 0. ],\n       [6.2, 2.2, 4.5, 1.5, 1. ],\n       [6. , 2.2, 4. , 1. , 1. ],\n       [4.8, 3.1, 1.6, 0.2, 0. ],\n       [4.4, 2.9, 1.4, 0.2, 0. ],\n       [6.5, 3. , 5.8, 2.2, 2. ],\n       [6.9, 3.1, 5.1, 2.3, 2. ],\n       [5.4, 3.9, 1.7, 0.4, 0. ],\n       [6.2, 2.9, 4.3, 1.3, 1. ]])"
     },
     "execution_count": 94,
     "metadata": {},
     "output_type": "execute_result"
    }
   ],
   "source": [
    "res = shuffle(res)\n",
    "res"
   ],
   "metadata": {
    "collapsed": false,
    "pycharm": {
     "name": "#%%\n"
    }
   }
  },
  {
   "cell_type": "code",
   "execution_count": 96,
   "outputs": [
    {
     "data": {
      "text/plain": "array([2., 2., 2., 0., 0., 1., 1., 0., 2., 1., 2., 1., 0., 0., 0., 2., 2.,\n       1., 0., 0., 2., 0., 1., 0., 0., 0., 1., 1., 0., 1., 0., 2., 1., 2.,\n       1., 1., 1., 1., 2., 0., 0., 2., 2., 1., 1., 0., 1., 1., 2., 2., 0.,\n       2., 0., 2., 2., 0., 0., 0., 2., 2., 1., 1., 1., 2., 1., 0., 2., 0.,\n       2., 2., 1., 2., 0., 0., 0., 1., 1., 1., 0., 2., 2., 1., 1., 0., 0.,\n       1., 2., 1., 0., 0., 2., 1., 0., 0., 2., 1., 2., 0., 1., 2., 1., 2.,\n       2., 0., 1., 0., 0., 2., 2., 1., 2., 2., 2., 1., 0., 0., 1., 0., 2.,\n       1., 1., 2., 0., 1., 2., 0., 2., 2., 0., 0., 2., 1., 1., 2., 0., 2.,\n       1., 1., 1., 2., 1., 0., 1., 1., 0., 0., 2., 2., 0., 1.])"
     },
     "execution_count": 96,
     "metadata": {},
     "output_type": "execute_result"
    }
   ],
   "source": [
    "res[:, -1]"
   ],
   "metadata": {
    "collapsed": false,
    "pycharm": {
     "name": "#%%\n"
    }
   }
  },
  {
   "cell_type": "code",
   "execution_count": 99,
   "outputs": [
    {
     "data": {
      "text/plain": "array(['setosa', 'versicolor', 'virginica'], dtype='<U10')"
     },
     "execution_count": 99,
     "metadata": {},
     "output_type": "execute_result"
    }
   ],
   "source": [
    "datasets = load_iris()\n",
    "datasets['target_names']"
   ],
   "metadata": {
    "collapsed": false,
    "pycharm": {
     "name": "#%%\n"
    }
   }
  },
  {
   "cell_type": "code",
   "execution_count": 103,
   "outputs": [
    {
     "data": {
      "text/plain": "   age  education_num         occupation  hours_per_week salary\n0   39             13       Adm-clerical              40  <=50K\n1   50             13    Exec-managerial              13  <=50K\n2   38              9  Handlers-cleaners              40  <=50K",
      "text/html": "<div>\n<style scoped>\n    .dataframe tbody tr th:only-of-type {\n        vertical-align: middle;\n    }\n\n    .dataframe tbody tr th {\n        vertical-align: top;\n    }\n\n    .dataframe thead th {\n        text-align: right;\n    }\n</style>\n<table border=\"1\" class=\"dataframe\">\n  <thead>\n    <tr style=\"text-align: right;\">\n      <th></th>\n      <th>age</th>\n      <th>education_num</th>\n      <th>occupation</th>\n      <th>hours_per_week</th>\n      <th>salary</th>\n    </tr>\n  </thead>\n  <tbody>\n    <tr>\n      <th>0</th>\n      <td>39</td>\n      <td>13</td>\n      <td>Adm-clerical</td>\n      <td>40</td>\n      <td>&lt;=50K</td>\n    </tr>\n    <tr>\n      <th>1</th>\n      <td>50</td>\n      <td>13</td>\n      <td>Exec-managerial</td>\n      <td>13</td>\n      <td>&lt;=50K</td>\n    </tr>\n    <tr>\n      <th>2</th>\n      <td>38</td>\n      <td>9</td>\n      <td>Handlers-cleaners</td>\n      <td>40</td>\n      <td>&lt;=50K</td>\n    </tr>\n  </tbody>\n</table>\n</div>"
     },
     "execution_count": 103,
     "metadata": {},
     "output_type": "execute_result"
    }
   ],
   "source": [
    "df = pd.read_csv('../datasets/adults.txt')\n",
    "df = df[['age','education_num','occupation','hours_per_week','salary']]\n",
    "df.head(3)"
   ],
   "metadata": {
    "collapsed": false,
    "pycharm": {
     "name": "#%%\n"
    }
   }
  },
  {
   "cell_type": "code",
   "execution_count": 135,
   "outputs": [
    {
     "data": {
      "text/plain": "((32561, 4), (32561,))"
     },
     "execution_count": 135,
     "metadata": {},
     "output_type": "execute_result"
    }
   ],
   "source": [
    "# feature = df[]\n",
    "col_names = df.columns[df.columns != 'salary']\n",
    "feature = df[col_names]\n",
    "labels = df['salary']\n",
    "feature.shape, labels.shape"
   ],
   "metadata": {
    "collapsed": false,
    "pycharm": {
     "name": "#%%\n"
    }
   }
  },
  {
   "cell_type": "code",
   "execution_count": 136,
   "outputs": [
    {
     "data": {
      "text/plain": "array(['Adm-clerical', 'Exec-managerial', 'Handlers-cleaners',\n       'Prof-specialty', 'Other-service', 'Sales', 'Craft-repair',\n       'Transport-moving', 'Farming-fishing', 'Machine-op-inspct',\n       'Tech-support', '?', 'Protective-serv', 'Armed-Forces',\n       'Priv-house-serv'], dtype=object)"
     },
     "execution_count": 136,
     "metadata": {},
     "output_type": "execute_result"
    }
   ],
   "source": [
    "occupation_count = feature['occupation'].unique()\n",
    "occupation_count"
   ],
   "metadata": {
    "collapsed": false,
    "pycharm": {
     "name": "#%%\n"
    }
   }
  },
  {
   "cell_type": "code",
   "execution_count": 137,
   "outputs": [
    {
     "data": {
      "text/plain": "{'Adm-clerical': 1,\n 'Exec-managerial': 2,\n 'Handlers-cleaners': 3,\n 'Prof-specialty': 4,\n 'Other-service': 5,\n 'Sales': 6,\n 'Craft-repair': 7,\n 'Transport-moving': 8,\n 'Farming-fishing': 9,\n 'Machine-op-inspct': 10,\n 'Tech-support': 11,\n '?': 12,\n 'Protective-serv': 13,\n 'Armed-Forces': 14,\n 'Priv-house-serv': 15}"
     },
     "execution_count": 137,
     "metadata": {},
     "output_type": "execute_result"
    }
   ],
   "source": [
    "count = 1\n",
    "occu_dic = {}\n",
    "for occ in occupation_count:\n",
    "    occu_dic[occ] = count\n",
    "    count += 1\n",
    "occu_dic"
   ],
   "metadata": {
    "collapsed": false,
    "pycharm": {
     "name": "#%%\n"
    }
   }
  },
  {
   "cell_type": "code",
   "execution_count": 138,
   "outputs": [
    {
     "name": "stderr",
     "output_type": "stream",
     "text": [
      "C:\\Users\\ASUS\\AppData\\Local\\Temp\\ipykernel_3028\\1879909711.py:1: SettingWithCopyWarning: \n",
      "A value is trying to be set on a copy of a slice from a DataFrame.\n",
      "Try using .loc[row_indexer,col_indexer] = value instead\n",
      "\n",
      "See the caveats in the documentation: https://pandas.pydata.org/pandas-docs/stable/user_guide/indexing.html#returning-a-view-versus-a-copy\n",
      "  feature['occupation'] = feature['occupation'].map(occu_dic)\n"
     ]
    },
    {
     "data": {
      "text/plain": "       age  education_num  occupation  hours_per_week\n0       39             13           1              40\n1       50             13           2              13\n2       38              9           3              40\n3       53              7           3              40\n4       28             13           4              40\n...    ...            ...         ...             ...\n32556   27             12          11              38\n32557   40              9          10              40\n32558   58              9           1              40\n32559   22              9           1              20\n32560   52              9           2              40\n\n[32561 rows x 4 columns]",
      "text/html": "<div>\n<style scoped>\n    .dataframe tbody tr th:only-of-type {\n        vertical-align: middle;\n    }\n\n    .dataframe tbody tr th {\n        vertical-align: top;\n    }\n\n    .dataframe thead th {\n        text-align: right;\n    }\n</style>\n<table border=\"1\" class=\"dataframe\">\n  <thead>\n    <tr style=\"text-align: right;\">\n      <th></th>\n      <th>age</th>\n      <th>education_num</th>\n      <th>occupation</th>\n      <th>hours_per_week</th>\n    </tr>\n  </thead>\n  <tbody>\n    <tr>\n      <th>0</th>\n      <td>39</td>\n      <td>13</td>\n      <td>1</td>\n      <td>40</td>\n    </tr>\n    <tr>\n      <th>1</th>\n      <td>50</td>\n      <td>13</td>\n      <td>2</td>\n      <td>13</td>\n    </tr>\n    <tr>\n      <th>2</th>\n      <td>38</td>\n      <td>9</td>\n      <td>3</td>\n      <td>40</td>\n    </tr>\n    <tr>\n      <th>3</th>\n      <td>53</td>\n      <td>7</td>\n      <td>3</td>\n      <td>40</td>\n    </tr>\n    <tr>\n      <th>4</th>\n      <td>28</td>\n      <td>13</td>\n      <td>4</td>\n      <td>40</td>\n    </tr>\n    <tr>\n      <th>...</th>\n      <td>...</td>\n      <td>...</td>\n      <td>...</td>\n      <td>...</td>\n    </tr>\n    <tr>\n      <th>32556</th>\n      <td>27</td>\n      <td>12</td>\n      <td>11</td>\n      <td>38</td>\n    </tr>\n    <tr>\n      <th>32557</th>\n      <td>40</td>\n      <td>9</td>\n      <td>10</td>\n      <td>40</td>\n    </tr>\n    <tr>\n      <th>32558</th>\n      <td>58</td>\n      <td>9</td>\n      <td>1</td>\n      <td>40</td>\n    </tr>\n    <tr>\n      <th>32559</th>\n      <td>22</td>\n      <td>9</td>\n      <td>1</td>\n      <td>20</td>\n    </tr>\n    <tr>\n      <th>32560</th>\n      <td>52</td>\n      <td>9</td>\n      <td>2</td>\n      <td>40</td>\n    </tr>\n  </tbody>\n</table>\n<p>32561 rows × 4 columns</p>\n</div>"
     },
     "execution_count": 138,
     "metadata": {},
     "output_type": "execute_result"
    }
   ],
   "source": [
    "feature['occupation'] = feature['occupation'].map(occu_dic)\n",
    "feature"
   ],
   "metadata": {
    "collapsed": false,
    "pycharm": {
     "name": "#%%\n"
    }
   }
  },
  {
   "cell_type": "code",
   "execution_count": 139,
   "outputs": [],
   "source": [
    "feature = np.array(feature)"
   ],
   "metadata": {
    "collapsed": false,
    "pycharm": {
     "name": "#%%\n"
    }
   }
  },
  {
   "cell_type": "code",
   "execution_count": 141,
   "outputs": [
    {
     "name": "stdout",
     "output_type": "stream",
     "text": [
      "[[39 13  1 40]\n",
      " [50 13  2 13]\n",
      " [38  9  3 40]\n",
      " ...\n",
      " [58  9  1 40]\n",
      " [22  9  1 20]\n",
      " [52  9  2 40]]\n"
     ]
    }
   ],
   "source": [
    "print(feature)"
   ],
   "metadata": {
    "collapsed": false,
    "pycharm": {
     "name": "#%%\n"
    }
   }
  },
  {
   "cell_type": "code",
   "execution_count": 142,
   "outputs": [
    {
     "data": {
      "text/plain": "0        <=50K\n1        <=50K\n2        <=50K\n3        <=50K\n4        <=50K\n         ...  \n32556    <=50K\n32557     >50K\n32558    <=50K\n32559    <=50K\n32560     >50K\nName: salary, Length: 32561, dtype: object"
     },
     "execution_count": 142,
     "metadata": {},
     "output_type": "execute_result"
    }
   ],
   "source": [
    "labels"
   ],
   "metadata": {
    "collapsed": false,
    "pycharm": {
     "name": "#%%\n"
    }
   }
  },
  {
   "cell_type": "code",
   "execution_count": 145,
   "outputs": [
    {
     "name": "stdout",
     "output_type": "stream",
     "text": [
      "[['<=50K']\n",
      " ['<=50K']\n",
      " ['<=50K']\n",
      " ...\n",
      " ['<=50K']\n",
      " ['<=50K']\n",
      " ['>50K']]\n"
     ]
    }
   ],
   "source": [
    "print(np.array(labels).reshape(-1, 1))"
   ],
   "metadata": {
    "collapsed": false,
    "pycharm": {
     "name": "#%%\n"
    }
   }
  },
  {
   "cell_type": "code",
   "execution_count": 146,
   "outputs": [],
   "source": [
    "datasets = pd.read_csv('../datasets/adults.txt')\n",
    "shuffle(datasets)\n",
    "datasets = datasets[['age', 'education_num', 'occupation', 'hours_per_week', 'salary']]\n",
    "\n",
    "col_names = datasets.columns[datasets.columns != 'salary']\n",
    "feature = datasets[col_names]\n",
    "labels = np.array(datasets['salary'])"
   ],
   "metadata": {
    "collapsed": false,
    "pycharm": {
     "name": "#%%\n"
    }
   }
  },
  {
   "cell_type": "code",
   "execution_count": 147,
   "outputs": [
    {
     "data": {
      "text/plain": "       ?  Adm-clerical  Armed-Forces  Craft-repair  Exec-managerial  \\\n0      0             1             0             0                0   \n1      0             0             0             0                1   \n2      0             0             0             0                0   \n3      0             0             0             0                0   \n4      0             0             0             0                0   \n...   ..           ...           ...           ...              ...   \n32556  0             0             0             0                0   \n32557  0             0             0             0                0   \n32558  0             1             0             0                0   \n32559  0             1             0             0                0   \n32560  0             0             0             0                1   \n\n       Farming-fishing  Handlers-cleaners  Machine-op-inspct  Other-service  \\\n0                    0                  0                  0              0   \n1                    0                  0                  0              0   \n2                    0                  1                  0              0   \n3                    0                  1                  0              0   \n4                    0                  0                  0              0   \n...                ...                ...                ...            ...   \n32556                0                  0                  0              0   \n32557                0                  0                  1              0   \n32558                0                  0                  0              0   \n32559                0                  0                  0              0   \n32560                0                  0                  0              0   \n\n       Priv-house-serv  Prof-specialty  Protective-serv  Sales  Tech-support  \\\n0                    0               0                0      0             0   \n1                    0               0                0      0             0   \n2                    0               0                0      0             0   \n3                    0               0                0      0             0   \n4                    0               1                0      0             0   \n...                ...             ...              ...    ...           ...   \n32556                0               0                0      0             1   \n32557                0               0                0      0             0   \n32558                0               0                0      0             0   \n32559                0               0                0      0             0   \n32560                0               0                0      0             0   \n\n       Transport-moving  \n0                     0  \n1                     0  \n2                     0  \n3                     0  \n4                     0  \n...                 ...  \n32556                 0  \n32557                 0  \n32558                 0  \n32559                 0  \n32560                 0  \n\n[32561 rows x 15 columns]",
      "text/html": "<div>\n<style scoped>\n    .dataframe tbody tr th:only-of-type {\n        vertical-align: middle;\n    }\n\n    .dataframe tbody tr th {\n        vertical-align: top;\n    }\n\n    .dataframe thead th {\n        text-align: right;\n    }\n</style>\n<table border=\"1\" class=\"dataframe\">\n  <thead>\n    <tr style=\"text-align: right;\">\n      <th></th>\n      <th>?</th>\n      <th>Adm-clerical</th>\n      <th>Armed-Forces</th>\n      <th>Craft-repair</th>\n      <th>Exec-managerial</th>\n      <th>Farming-fishing</th>\n      <th>Handlers-cleaners</th>\n      <th>Machine-op-inspct</th>\n      <th>Other-service</th>\n      <th>Priv-house-serv</th>\n      <th>Prof-specialty</th>\n      <th>Protective-serv</th>\n      <th>Sales</th>\n      <th>Tech-support</th>\n      <th>Transport-moving</th>\n    </tr>\n  </thead>\n  <tbody>\n    <tr>\n      <th>0</th>\n      <td>0</td>\n      <td>1</td>\n      <td>0</td>\n      <td>0</td>\n      <td>0</td>\n      <td>0</td>\n      <td>0</td>\n      <td>0</td>\n      <td>0</td>\n      <td>0</td>\n      <td>0</td>\n      <td>0</td>\n      <td>0</td>\n      <td>0</td>\n      <td>0</td>\n    </tr>\n    <tr>\n      <th>1</th>\n      <td>0</td>\n      <td>0</td>\n      <td>0</td>\n      <td>0</td>\n      <td>1</td>\n      <td>0</td>\n      <td>0</td>\n      <td>0</td>\n      <td>0</td>\n      <td>0</td>\n      <td>0</td>\n      <td>0</td>\n      <td>0</td>\n      <td>0</td>\n      <td>0</td>\n    </tr>\n    <tr>\n      <th>2</th>\n      <td>0</td>\n      <td>0</td>\n      <td>0</td>\n      <td>0</td>\n      <td>0</td>\n      <td>0</td>\n      <td>1</td>\n      <td>0</td>\n      <td>0</td>\n      <td>0</td>\n      <td>0</td>\n      <td>0</td>\n      <td>0</td>\n      <td>0</td>\n      <td>0</td>\n    </tr>\n    <tr>\n      <th>3</th>\n      <td>0</td>\n      <td>0</td>\n      <td>0</td>\n      <td>0</td>\n      <td>0</td>\n      <td>0</td>\n      <td>1</td>\n      <td>0</td>\n      <td>0</td>\n      <td>0</td>\n      <td>0</td>\n      <td>0</td>\n      <td>0</td>\n      <td>0</td>\n      <td>0</td>\n    </tr>\n    <tr>\n      <th>4</th>\n      <td>0</td>\n      <td>0</td>\n      <td>0</td>\n      <td>0</td>\n      <td>0</td>\n      <td>0</td>\n      <td>0</td>\n      <td>0</td>\n      <td>0</td>\n      <td>0</td>\n      <td>1</td>\n      <td>0</td>\n      <td>0</td>\n      <td>0</td>\n      <td>0</td>\n    </tr>\n    <tr>\n      <th>...</th>\n      <td>...</td>\n      <td>...</td>\n      <td>...</td>\n      <td>...</td>\n      <td>...</td>\n      <td>...</td>\n      <td>...</td>\n      <td>...</td>\n      <td>...</td>\n      <td>...</td>\n      <td>...</td>\n      <td>...</td>\n      <td>...</td>\n      <td>...</td>\n      <td>...</td>\n    </tr>\n    <tr>\n      <th>32556</th>\n      <td>0</td>\n      <td>0</td>\n      <td>0</td>\n      <td>0</td>\n      <td>0</td>\n      <td>0</td>\n      <td>0</td>\n      <td>0</td>\n      <td>0</td>\n      <td>0</td>\n      <td>0</td>\n      <td>0</td>\n      <td>0</td>\n      <td>1</td>\n      <td>0</td>\n    </tr>\n    <tr>\n      <th>32557</th>\n      <td>0</td>\n      <td>0</td>\n      <td>0</td>\n      <td>0</td>\n      <td>0</td>\n      <td>0</td>\n      <td>0</td>\n      <td>1</td>\n      <td>0</td>\n      <td>0</td>\n      <td>0</td>\n      <td>0</td>\n      <td>0</td>\n      <td>0</td>\n      <td>0</td>\n    </tr>\n    <tr>\n      <th>32558</th>\n      <td>0</td>\n      <td>1</td>\n      <td>0</td>\n      <td>0</td>\n      <td>0</td>\n      <td>0</td>\n      <td>0</td>\n      <td>0</td>\n      <td>0</td>\n      <td>0</td>\n      <td>0</td>\n      <td>0</td>\n      <td>0</td>\n      <td>0</td>\n      <td>0</td>\n    </tr>\n    <tr>\n      <th>32559</th>\n      <td>0</td>\n      <td>1</td>\n      <td>0</td>\n      <td>0</td>\n      <td>0</td>\n      <td>0</td>\n      <td>0</td>\n      <td>0</td>\n      <td>0</td>\n      <td>0</td>\n      <td>0</td>\n      <td>0</td>\n      <td>0</td>\n      <td>0</td>\n      <td>0</td>\n    </tr>\n    <tr>\n      <th>32560</th>\n      <td>0</td>\n      <td>0</td>\n      <td>0</td>\n      <td>0</td>\n      <td>1</td>\n      <td>0</td>\n      <td>0</td>\n      <td>0</td>\n      <td>0</td>\n      <td>0</td>\n      <td>0</td>\n      <td>0</td>\n      <td>0</td>\n      <td>0</td>\n      <td>0</td>\n    </tr>\n  </tbody>\n</table>\n<p>32561 rows × 15 columns</p>\n</div>"
     },
     "execution_count": 147,
     "metadata": {},
     "output_type": "execute_result"
    }
   ],
   "source": [
    "datasets_oh = pd.get_dummies(feature['occupation'])\n",
    "datasets_oh"
   ],
   "metadata": {
    "collapsed": false,
    "pycharm": {
     "name": "#%%\n"
    }
   }
  },
  {
   "cell_type": "code",
   "execution_count": 148,
   "outputs": [
    {
     "data": {
      "text/plain": "       age  education_num  hours_per_week  ?  Adm-clerical  Armed-Forces  \\\n0       39             13              40  0             1             0   \n1       50             13              13  0             0             0   \n2       38              9              40  0             0             0   \n3       53              7              40  0             0             0   \n4       28             13              40  0             0             0   \n...    ...            ...             ... ..           ...           ...   \n32556   27             12              38  0             0             0   \n32557   40              9              40  0             0             0   \n32558   58              9              40  0             1             0   \n32559   22              9              20  0             1             0   \n32560   52              9              40  0             0             0   \n\n       Craft-repair  Exec-managerial  Farming-fishing  Handlers-cleaners  \\\n0                 0                0                0                  0   \n1                 0                1                0                  0   \n2                 0                0                0                  1   \n3                 0                0                0                  1   \n4                 0                0                0                  0   \n...             ...              ...              ...                ...   \n32556             0                0                0                  0   \n32557             0                0                0                  0   \n32558             0                0                0                  0   \n32559             0                0                0                  0   \n32560             0                1                0                  0   \n\n       Machine-op-inspct  Other-service  Priv-house-serv  Prof-specialty  \\\n0                      0              0                0               0   \n1                      0              0                0               0   \n2                      0              0                0               0   \n3                      0              0                0               0   \n4                      0              0                0               1   \n...                  ...            ...              ...             ...   \n32556                  0              0                0               0   \n32557                  1              0                0               0   \n32558                  0              0                0               0   \n32559                  0              0                0               0   \n32560                  0              0                0               0   \n\n       Protective-serv  Sales  Tech-support  Transport-moving  \n0                    0      0             0                 0  \n1                    0      0             0                 0  \n2                    0      0             0                 0  \n3                    0      0             0                 0  \n4                    0      0             0                 0  \n...                ...    ...           ...               ...  \n32556                0      0             1                 0  \n32557                0      0             0                 0  \n32558                0      0             0                 0  \n32559                0      0             0                 0  \n32560                0      0             0                 0  \n\n[32561 rows x 18 columns]",
      "text/html": "<div>\n<style scoped>\n    .dataframe tbody tr th:only-of-type {\n        vertical-align: middle;\n    }\n\n    .dataframe tbody tr th {\n        vertical-align: top;\n    }\n\n    .dataframe thead th {\n        text-align: right;\n    }\n</style>\n<table border=\"1\" class=\"dataframe\">\n  <thead>\n    <tr style=\"text-align: right;\">\n      <th></th>\n      <th>age</th>\n      <th>education_num</th>\n      <th>hours_per_week</th>\n      <th>?</th>\n      <th>Adm-clerical</th>\n      <th>Armed-Forces</th>\n      <th>Craft-repair</th>\n      <th>Exec-managerial</th>\n      <th>Farming-fishing</th>\n      <th>Handlers-cleaners</th>\n      <th>Machine-op-inspct</th>\n      <th>Other-service</th>\n      <th>Priv-house-serv</th>\n      <th>Prof-specialty</th>\n      <th>Protective-serv</th>\n      <th>Sales</th>\n      <th>Tech-support</th>\n      <th>Transport-moving</th>\n    </tr>\n  </thead>\n  <tbody>\n    <tr>\n      <th>0</th>\n      <td>39</td>\n      <td>13</td>\n      <td>40</td>\n      <td>0</td>\n      <td>1</td>\n      <td>0</td>\n      <td>0</td>\n      <td>0</td>\n      <td>0</td>\n      <td>0</td>\n      <td>0</td>\n      <td>0</td>\n      <td>0</td>\n      <td>0</td>\n      <td>0</td>\n      <td>0</td>\n      <td>0</td>\n      <td>0</td>\n    </tr>\n    <tr>\n      <th>1</th>\n      <td>50</td>\n      <td>13</td>\n      <td>13</td>\n      <td>0</td>\n      <td>0</td>\n      <td>0</td>\n      <td>0</td>\n      <td>1</td>\n      <td>0</td>\n      <td>0</td>\n      <td>0</td>\n      <td>0</td>\n      <td>0</td>\n      <td>0</td>\n      <td>0</td>\n      <td>0</td>\n      <td>0</td>\n      <td>0</td>\n    </tr>\n    <tr>\n      <th>2</th>\n      <td>38</td>\n      <td>9</td>\n      <td>40</td>\n      <td>0</td>\n      <td>0</td>\n      <td>0</td>\n      <td>0</td>\n      <td>0</td>\n      <td>0</td>\n      <td>1</td>\n      <td>0</td>\n      <td>0</td>\n      <td>0</td>\n      <td>0</td>\n      <td>0</td>\n      <td>0</td>\n      <td>0</td>\n      <td>0</td>\n    </tr>\n    <tr>\n      <th>3</th>\n      <td>53</td>\n      <td>7</td>\n      <td>40</td>\n      <td>0</td>\n      <td>0</td>\n      <td>0</td>\n      <td>0</td>\n      <td>0</td>\n      <td>0</td>\n      <td>1</td>\n      <td>0</td>\n      <td>0</td>\n      <td>0</td>\n      <td>0</td>\n      <td>0</td>\n      <td>0</td>\n      <td>0</td>\n      <td>0</td>\n    </tr>\n    <tr>\n      <th>4</th>\n      <td>28</td>\n      <td>13</td>\n      <td>40</td>\n      <td>0</td>\n      <td>0</td>\n      <td>0</td>\n      <td>0</td>\n      <td>0</td>\n      <td>0</td>\n      <td>0</td>\n      <td>0</td>\n      <td>0</td>\n      <td>0</td>\n      <td>1</td>\n      <td>0</td>\n      <td>0</td>\n      <td>0</td>\n      <td>0</td>\n    </tr>\n    <tr>\n      <th>...</th>\n      <td>...</td>\n      <td>...</td>\n      <td>...</td>\n      <td>...</td>\n      <td>...</td>\n      <td>...</td>\n      <td>...</td>\n      <td>...</td>\n      <td>...</td>\n      <td>...</td>\n      <td>...</td>\n      <td>...</td>\n      <td>...</td>\n      <td>...</td>\n      <td>...</td>\n      <td>...</td>\n      <td>...</td>\n      <td>...</td>\n    </tr>\n    <tr>\n      <th>32556</th>\n      <td>27</td>\n      <td>12</td>\n      <td>38</td>\n      <td>0</td>\n      <td>0</td>\n      <td>0</td>\n      <td>0</td>\n      <td>0</td>\n      <td>0</td>\n      <td>0</td>\n      <td>0</td>\n      <td>0</td>\n      <td>0</td>\n      <td>0</td>\n      <td>0</td>\n      <td>0</td>\n      <td>1</td>\n      <td>0</td>\n    </tr>\n    <tr>\n      <th>32557</th>\n      <td>40</td>\n      <td>9</td>\n      <td>40</td>\n      <td>0</td>\n      <td>0</td>\n      <td>0</td>\n      <td>0</td>\n      <td>0</td>\n      <td>0</td>\n      <td>0</td>\n      <td>1</td>\n      <td>0</td>\n      <td>0</td>\n      <td>0</td>\n      <td>0</td>\n      <td>0</td>\n      <td>0</td>\n      <td>0</td>\n    </tr>\n    <tr>\n      <th>32558</th>\n      <td>58</td>\n      <td>9</td>\n      <td>40</td>\n      <td>0</td>\n      <td>1</td>\n      <td>0</td>\n      <td>0</td>\n      <td>0</td>\n      <td>0</td>\n      <td>0</td>\n      <td>0</td>\n      <td>0</td>\n      <td>0</td>\n      <td>0</td>\n      <td>0</td>\n      <td>0</td>\n      <td>0</td>\n      <td>0</td>\n    </tr>\n    <tr>\n      <th>32559</th>\n      <td>22</td>\n      <td>9</td>\n      <td>20</td>\n      <td>0</td>\n      <td>1</td>\n      <td>0</td>\n      <td>0</td>\n      <td>0</td>\n      <td>0</td>\n      <td>0</td>\n      <td>0</td>\n      <td>0</td>\n      <td>0</td>\n      <td>0</td>\n      <td>0</td>\n      <td>0</td>\n      <td>0</td>\n      <td>0</td>\n    </tr>\n    <tr>\n      <th>32560</th>\n      <td>52</td>\n      <td>9</td>\n      <td>40</td>\n      <td>0</td>\n      <td>0</td>\n      <td>0</td>\n      <td>0</td>\n      <td>1</td>\n      <td>0</td>\n      <td>0</td>\n      <td>0</td>\n      <td>0</td>\n      <td>0</td>\n      <td>0</td>\n      <td>0</td>\n      <td>0</td>\n      <td>0</td>\n      <td>0</td>\n    </tr>\n  </tbody>\n</table>\n<p>32561 rows × 18 columns</p>\n</div>"
     },
     "execution_count": 148,
     "metadata": {},
     "output_type": "execute_result"
    }
   ],
   "source": [
    "feature = pd.concat((feature, datasets_oh), axis=1).drop(labels='occupation', axis=1)\n",
    "feature"
   ],
   "metadata": {
    "collapsed": false,
    "pycharm": {
     "name": "#%%\n"
    }
   }
  },
  {
   "cell_type": "code",
   "execution_count": 157,
   "outputs": [
    {
     "name": "stderr",
     "output_type": "stream",
     "text": [
      "C:\\Users\\ASUS\\AppData\\Local\\Temp\\ipykernel_3028\\2124304210.py:6: DeprecationWarning: `np.float` is a deprecated alias for the builtin `float`. To silence this warning, use `float` by itself. Doing this will not modify any behavior and is safe. If you specifically wanted the numpy scalar type, use `np.float64` here.\n",
      "Deprecated in NumPy 1.20; for more details and guidance: https://numpy.org/devdocs/release/1.20.0-notes.html#deprecations\n",
      "  feature = dataSets[:, :-1].astype(np.float)\n"
     ]
    },
    {
     "data": {
      "text/plain": "array(['largeDoses', 'smallDoses', 'didntLike', 'didntLike', 'didntLike',\n       'didntLike', 'largeDoses', 'largeDoses', 'didntLike', 'largeDoses',\n       'didntLike', 'didntLike', 'smallDoses', 'didntLike', 'didntLike',\n       'didntLike', 'didntLike', 'didntLike', 'smallDoses', 'largeDoses',\n       'smallDoses', 'didntLike', 'smallDoses', 'largeDoses',\n       'smallDoses', 'largeDoses', 'smallDoses', 'largeDoses',\n       'smallDoses', 'didntLike', 'largeDoses', 'didntLike', 'largeDoses',\n       'didntLike', 'smallDoses', 'didntLike', 'didntLike', 'smallDoses',\n       'largeDoses', 'largeDoses', 'didntLike', 'smallDoses',\n       'largeDoses', 'largeDoses', 'largeDoses', 'didntLike', 'didntLike',\n       'didntLike', 'didntLike', 'smallDoses', 'smallDoses', 'didntLike',\n       'largeDoses', 'smallDoses', 'smallDoses', 'smallDoses',\n       'smallDoses', 'largeDoses', 'didntLike', 'smallDoses', 'didntLike',\n       'smallDoses', 'smallDoses', 'smallDoses', 'smallDoses',\n       'smallDoses', 'largeDoses', 'smallDoses', 'largeDoses',\n       'didntLike', 'smallDoses', 'largeDoses', 'smallDoses',\n       'smallDoses', 'didntLike', 'largeDoses', 'didntLike', 'didntLike',\n       'largeDoses', 'largeDoses', 'didntLike', 'smallDoses',\n       'largeDoses', 'didntLike', 'largeDoses', 'didntLike', 'smallDoses',\n       'smallDoses', 'didntLike', 'didntLike', 'largeDoses', 'largeDoses',\n       'didntLike', 'smallDoses', 'didntLike', 'largeDoses', 'largeDoses',\n       'smallDoses', 'didntLike', 'didntLike', 'largeDoses', 'didntLike',\n       'smallDoses', 'largeDoses', 'largeDoses', 'smallDoses',\n       'largeDoses', 'largeDoses', 'didntLike', 'smallDoses',\n       'largeDoses', 'smallDoses', 'didntLike', 'largeDoses', 'didntLike',\n       'smallDoses', 'didntLike', 'didntLike', 'smallDoses', 'largeDoses',\n       'smallDoses', 'largeDoses', 'smallDoses', 'largeDoses',\n       'smallDoses', 'didntLike', 'largeDoses', 'largeDoses',\n       'largeDoses', 'didntLike', 'largeDoses', 'smallDoses',\n       'smallDoses', 'largeDoses', 'didntLike', 'largeDoses',\n       'largeDoses', 'largeDoses', 'didntLike', 'largeDoses', 'didntLike',\n       'didntLike', 'largeDoses', 'largeDoses', 'smallDoses',\n       'largeDoses', 'largeDoses', 'didntLike', 'smallDoses',\n       'largeDoses', 'smallDoses', 'smallDoses', 'largeDoses',\n       'largeDoses', 'largeDoses', 'didntLike', 'smallDoses',\n       'smallDoses', 'didntLike', 'didntLike', 'largeDoses', 'smallDoses',\n       'largeDoses', 'largeDoses', 'didntLike', 'smallDoses', 'didntLike',\n       'largeDoses', 'didntLike', 'smallDoses', 'largeDoses',\n       'smallDoses', 'largeDoses', 'didntLike', 'didntLike', 'didntLike',\n       'largeDoses', 'smallDoses', 'largeDoses', 'didntLike',\n       'largeDoses', 'smallDoses', 'didntLike', 'largeDoses',\n       'smallDoses', 'smallDoses', 'largeDoses', 'smallDoses',\n       'largeDoses', 'smallDoses', 'didntLike', 'didntLike', 'largeDoses',\n       'didntLike', 'largeDoses', 'smallDoses', 'smallDoses',\n       'smallDoses', 'largeDoses', 'smallDoses', 'smallDoses',\n       'didntLike', 'smallDoses', 'smallDoses', 'largeDoses', 'didntLike',\n       'largeDoses', 'largeDoses', 'smallDoses', 'didntLike', 'didntLike',\n       'didntLike', 'smallDoses', 'didntLike', 'largeDoses', 'largeDoses',\n       'largeDoses', 'largeDoses', 'smallDoses', 'didntLike', 'didntLike',\n       'didntLike', 'smallDoses', 'largeDoses', 'smallDoses', 'didntLike',\n       'largeDoses', 'didntLike', 'largeDoses', 'smallDoses',\n       'smallDoses', 'largeDoses', 'didntLike', 'largeDoses', 'didntLike',\n       'didntLike', 'smallDoses', 'didntLike', 'smallDoses', 'smallDoses',\n       'didntLike', 'largeDoses', 'didntLike', 'largeDoses', 'smallDoses',\n       'largeDoses', 'didntLike', 'smallDoses', 'largeDoses', 'didntLike',\n       'didntLike', 'didntLike', 'didntLike', 'smallDoses', 'largeDoses',\n       'smallDoses', 'smallDoses', 'largeDoses', 'didntLike',\n       'smallDoses', 'didntLike', 'didntLike', 'didntLike', 'largeDoses',\n       'largeDoses', 'smallDoses', 'didntLike', 'didntLike', 'didntLike',\n       'smallDoses', 'smallDoses', 'largeDoses', 'didntLike', 'didntLike',\n       'didntLike', 'smallDoses', 'didntLike', 'didntLike', 'smallDoses',\n       'didntLike', 'didntLike', 'didntLike', 'smallDoses', 'smallDoses',\n       'largeDoses', 'smallDoses', 'largeDoses', 'largeDoses',\n       'largeDoses', 'largeDoses', 'didntLike', 'smallDoses',\n       'largeDoses', 'didntLike', 'didntLike', 'didntLike', 'largeDoses',\n       'didntLike', 'largeDoses', 'smallDoses', 'smallDoses', 'didntLike',\n       'largeDoses', 'didntLike', 'largeDoses', 'smallDoses',\n       'smallDoses', 'didntLike', 'smallDoses', 'smallDoses',\n       'largeDoses', 'didntLike', 'largeDoses', 'smallDoses', 'didntLike',\n       'didntLike', 'largeDoses', 'largeDoses', 'smallDoses',\n       'largeDoses', 'largeDoses', 'smallDoses', 'largeDoses',\n       'didntLike', 'largeDoses', 'didntLike', 'largeDoses', 'largeDoses',\n       'didntLike', 'largeDoses', 'smallDoses', 'didntLike', 'largeDoses',\n       'didntLike', 'largeDoses', 'smallDoses', 'didntLike', 'smallDoses',\n       'smallDoses', 'didntLike', 'largeDoses', 'didntLike', 'didntLike',\n       'largeDoses', 'largeDoses', 'smallDoses', 'smallDoses',\n       'largeDoses', 'didntLike', 'smallDoses', 'largeDoses',\n       'largeDoses', 'smallDoses', 'smallDoses', 'didntLike', 'didntLike',\n       'didntLike', 'didntLike', 'largeDoses', 'smallDoses', 'didntLike',\n       'didntLike', 'largeDoses', 'smallDoses', 'didntLike', 'didntLike',\n       'largeDoses', 'largeDoses', 'largeDoses', 'smallDoses',\n       'largeDoses', 'smallDoses', 'didntLike', 'didntLike', 'didntLike',\n       'didntLike', 'didntLike', 'largeDoses', 'smallDoses', 'smallDoses',\n       'didntLike', 'smallDoses', 'didntLike', 'largeDoses', 'smallDoses',\n       'didntLike', 'largeDoses', 'smallDoses', 'didntLike', 'largeDoses',\n       'didntLike', 'didntLike', 'largeDoses', 'largeDoses', 'largeDoses',\n       'largeDoses', 'smallDoses', 'didntLike', 'didntLike', 'smallDoses',\n       'didntLike', 'largeDoses', 'largeDoses', 'smallDoses', 'didntLike',\n       'smallDoses', 'largeDoses', 'smallDoses', 'didntLike',\n       'smallDoses', 'smallDoses', 'smallDoses', 'didntLike', 'didntLike',\n       'largeDoses', 'didntLike', 'didntLike', 'smallDoses', 'largeDoses',\n       'didntLike', 'didntLike', 'smallDoses', 'largeDoses', 'didntLike',\n       'largeDoses', 'didntLike', 'didntLike', 'smallDoses', 'smallDoses',\n       'didntLike', 'smallDoses', 'smallDoses', 'smallDoses',\n       'largeDoses', 'didntLike', 'didntLike', 'didntLike', 'largeDoses',\n       'didntLike', 'largeDoses', 'didntLike', 'largeDoses', 'largeDoses',\n       'didntLike', 'didntLike', 'didntLike', 'largeDoses', 'smallDoses',\n       'largeDoses', 'largeDoses', 'smallDoses', 'smallDoses',\n       'didntLike', 'didntLike', 'didntLike', 'smallDoses', 'didntLike',\n       'smallDoses', 'smallDoses', 'largeDoses', 'largeDoses',\n       'largeDoses', 'didntLike', 'didntLike', 'largeDoses', 'largeDoses',\n       'smallDoses', 'largeDoses', 'largeDoses', 'smallDoses',\n       'largeDoses', 'largeDoses', 'largeDoses', 'smallDoses',\n       'largeDoses', 'largeDoses', 'didntLike', 'smallDoses',\n       'largeDoses', 'smallDoses', 'didntLike', 'didntLike', 'didntLike',\n       'didntLike', 'largeDoses', 'largeDoses', 'largeDoses',\n       'largeDoses', 'smallDoses', 'didntLike', 'didntLike', 'didntLike',\n       'didntLike', 'largeDoses', 'didntLike', 'didntLike', 'smallDoses',\n       'didntLike', 'didntLike', 'smallDoses', 'largeDoses', 'smallDoses',\n       'didntLike', 'smallDoses', 'smallDoses', 'smallDoses',\n       'largeDoses', 'smallDoses', 'didntLike', 'largeDoses',\n       'smallDoses', 'largeDoses', 'smallDoses', 'largeDoses',\n       'smallDoses', 'didntLike', 'didntLike', 'smallDoses', 'largeDoses',\n       'didntLike', 'largeDoses', 'largeDoses', 'largeDoses', 'didntLike',\n       'smallDoses', 'didntLike', 'smallDoses', 'smallDoses', 'didntLike',\n       'smallDoses', 'smallDoses', 'smallDoses', 'smallDoses',\n       'smallDoses', 'largeDoses', 'smallDoses', 'didntLike',\n       'largeDoses', 'largeDoses', 'smallDoses', 'smallDoses',\n       'smallDoses', 'largeDoses', 'didntLike', 'smallDoses', 'didntLike',\n       'didntLike', 'largeDoses', 'smallDoses', 'largeDoses',\n       'smallDoses', 'largeDoses', 'smallDoses', 'largeDoses',\n       'largeDoses', 'smallDoses', 'smallDoses', 'didntLike',\n       'largeDoses', 'didntLike', 'smallDoses', 'didntLike', 'largeDoses',\n       'didntLike', 'didntLike', 'didntLike', 'largeDoses', 'didntLike',\n       'didntLike', 'largeDoses', 'largeDoses', 'smallDoses',\n       'smallDoses', 'didntLike', 'largeDoses', 'didntLike', 'didntLike',\n       'largeDoses', 'smallDoses', 'largeDoses', 'didntLike', 'didntLike',\n       'largeDoses', 'didntLike', 'largeDoses', 'largeDoses', 'didntLike',\n       'smallDoses', 'largeDoses', 'didntLike', 'largeDoses', 'didntLike',\n       'didntLike', 'smallDoses', 'didntLike', 'largeDoses', 'didntLike',\n       'didntLike', 'didntLike', 'didntLike', 'smallDoses', 'didntLike',\n       'largeDoses', 'didntLike', 'smallDoses', 'didntLike', 'largeDoses',\n       'didntLike', 'largeDoses', 'didntLike', 'didntLike', 'smallDoses',\n       'smallDoses', 'smallDoses', 'largeDoses', 'smallDoses',\n       'smallDoses', 'didntLike', 'smallDoses', 'largeDoses',\n       'largeDoses', 'smallDoses', 'largeDoses', 'largeDoses',\n       'largeDoses', 'smallDoses', 'largeDoses', 'largeDoses',\n       'didntLike', 'largeDoses', 'smallDoses', 'largeDoses',\n       'smallDoses', 'didntLike', 'smallDoses', 'didntLike', 'didntLike',\n       'didntLike', 'smallDoses', 'largeDoses', 'smallDoses',\n       'smallDoses', 'didntLike', 'smallDoses', 'smallDoses', 'didntLike',\n       'largeDoses', 'didntLike', 'largeDoses', 'largeDoses',\n       'largeDoses', 'smallDoses', 'smallDoses', 'largeDoses',\n       'largeDoses', 'didntLike', 'smallDoses', 'smallDoses',\n       'smallDoses', 'largeDoses', 'didntLike', 'smallDoses', 'didntLike',\n       'largeDoses', 'didntLike', 'smallDoses', 'largeDoses', 'didntLike',\n       'didntLike', 'didntLike', 'smallDoses', 'smallDoses', 'largeDoses',\n       'didntLike', 'largeDoses', 'didntLike', 'didntLike', 'largeDoses',\n       'didntLike', 'smallDoses', 'largeDoses', 'didntLike', 'smallDoses',\n       'largeDoses', 'didntLike', 'smallDoses', 'largeDoses',\n       'smallDoses', 'smallDoses', 'smallDoses', 'largeDoses',\n       'didntLike', 'largeDoses', 'didntLike', 'smallDoses', 'largeDoses',\n       'smallDoses', 'smallDoses', 'largeDoses', 'didntLike',\n       'smallDoses', 'largeDoses', 'smallDoses', 'largeDoses',\n       'didntLike', 'smallDoses', 'smallDoses', 'largeDoses', 'didntLike',\n       'didntLike', 'didntLike', 'smallDoses', 'smallDoses', 'didntLike',\n       'didntLike', 'smallDoses', 'didntLike', 'smallDoses', 'didntLike',\n       'smallDoses', 'largeDoses', 'smallDoses', 'didntLike',\n       'largeDoses', 'largeDoses', 'largeDoses', 'didntLike', 'didntLike',\n       'largeDoses', 'didntLike', 'smallDoses', 'largeDoses',\n       'largeDoses', 'smallDoses', 'smallDoses', 'smallDoses',\n       'didntLike', 'smallDoses', 'largeDoses', 'smallDoses',\n       'smallDoses', 'largeDoses', 'smallDoses', 'smallDoses',\n       'smallDoses', 'largeDoses', 'largeDoses', 'smallDoses',\n       'didntLike', 'largeDoses', 'smallDoses', 'didntLike', 'largeDoses',\n       'largeDoses', 'didntLike', 'smallDoses', 'largeDoses',\n       'smallDoses', 'didntLike', 'largeDoses', 'largeDoses',\n       'largeDoses', 'didntLike', 'smallDoses', 'smallDoses',\n       'smallDoses', 'largeDoses', 'smallDoses', 'largeDoses',\n       'largeDoses', 'didntLike', 'smallDoses', 'didntLike', 'didntLike',\n       'smallDoses', 'didntLike', 'largeDoses', 'didntLike', 'smallDoses',\n       'smallDoses', 'didntLike', 'largeDoses', 'smallDoses', 'didntLike',\n       'largeDoses', 'largeDoses', 'smallDoses', 'smallDoses',\n       'smallDoses', 'didntLike', 'smallDoses', 'smallDoses', 'didntLike',\n       'largeDoses', 'didntLike', 'largeDoses', 'didntLike', 'largeDoses',\n       'largeDoses', 'didntLike', 'didntLike', 'smallDoses', 'largeDoses',\n       'smallDoses', 'smallDoses', 'largeDoses', 'didntLike', 'didntLike',\n       'didntLike', 'didntLike', 'largeDoses', 'smallDoses', 'smallDoses',\n       'didntLike', 'largeDoses', 'didntLike', 'smallDoses', 'largeDoses',\n       'didntLike', 'largeDoses', 'didntLike', 'largeDoses', 'didntLike',\n       'didntLike', 'largeDoses', 'smallDoses', 'largeDoses', 'didntLike',\n       'didntLike', 'largeDoses', 'largeDoses', 'largeDoses',\n       'largeDoses', 'didntLike', 'largeDoses', 'smallDoses',\n       'smallDoses', 'didntLike', 'didntLike', 'largeDoses', 'largeDoses',\n       'smallDoses', 'smallDoses', 'smallDoses', 'didntLike',\n       'smallDoses', 'didntLike', 'smallDoses', 'didntLike', 'largeDoses',\n       'smallDoses', 'didntLike', 'smallDoses', 'smallDoses',\n       'largeDoses', 'didntLike', 'smallDoses', 'smallDoses',\n       'smallDoses', 'largeDoses', 'smallDoses', 'didntLike',\n       'smallDoses', 'didntLike', 'smallDoses', 'largeDoses',\n       'largeDoses', 'smallDoses', 'largeDoses', 'didntLike', 'didntLike',\n       'largeDoses', 'largeDoses', 'didntLike', 'smallDoses',\n       'smallDoses', 'smallDoses', 'smallDoses', 'smallDoses',\n       'smallDoses', 'didntLike', 'largeDoses', 'largeDoses',\n       'largeDoses', 'largeDoses', 'largeDoses', 'didntLike', 'didntLike',\n       'largeDoses', 'smallDoses', 'didntLike', 'smallDoses', 'didntLike',\n       'smallDoses', 'smallDoses', 'largeDoses', 'smallDoses',\n       'smallDoses', 'smallDoses', 'largeDoses', 'didntLike',\n       'smallDoses', 'didntLike', 'smallDoses', 'smallDoses', 'didntLike',\n       'didntLike', 'smallDoses', 'largeDoses', 'largeDoses', 'didntLike',\n       'didntLike', 'didntLike', 'didntLike', 'largeDoses', 'largeDoses',\n       'largeDoses', 'largeDoses', 'largeDoses', 'largeDoses',\n       'didntLike', 'largeDoses', 'largeDoses', 'smallDoses',\n       'largeDoses', 'smallDoses', 'largeDoses', 'largeDoses',\n       'smallDoses', 'smallDoses', 'didntLike', 'didntLike', 'didntLike',\n       'largeDoses', 'largeDoses', 'didntLike', 'didntLike', 'didntLike',\n       'largeDoses', 'largeDoses', 'smallDoses', 'didntLike',\n       'smallDoses', 'didntLike', 'didntLike', 'smallDoses', 'smallDoses',\n       'didntLike', 'didntLike', 'didntLike', 'largeDoses', 'didntLike',\n       'didntLike', 'smallDoses', 'largeDoses', 'smallDoses',\n       'smallDoses', 'didntLike', 'largeDoses', 'didntLike', 'smallDoses',\n       'largeDoses', 'didntLike', 'smallDoses', 'smallDoses',\n       'smallDoses', 'smallDoses', 'largeDoses', 'smallDoses',\n       'largeDoses', 'largeDoses', 'didntLike', 'smallDoses', 'didntLike',\n       'smallDoses', 'largeDoses', 'didntLike', 'largeDoses',\n       'smallDoses', 'smallDoses', 'smallDoses', 'smallDoses',\n       'smallDoses', 'smallDoses', 'smallDoses', 'smallDoses',\n       'smallDoses', 'smallDoses', 'smallDoses', 'smallDoses',\n       'largeDoses', 'smallDoses', 'smallDoses', 'smallDoses',\n       'smallDoses', 'smallDoses', 'didntLike', 'largeDoses',\n       'largeDoses', 'largeDoses'], dtype='<U10')"
     },
     "execution_count": 157,
     "metadata": {},
     "output_type": "execute_result"
    }
   ],
   "source": [
    "with open('../datasets/datingTestSet.txt') as file:\n",
    "    dataSets_list = []\n",
    "    for line in file:\n",
    "        dataSets_list.append(line.strip().split())\n",
    "dataSets = np.array(dataSets_list)\n",
    "feature = dataSets[:, :-1].astype(np.float)\n",
    "labels = np.array(dataSets[:, -1])\n",
    "labels"
   ],
   "metadata": {
    "collapsed": false,
    "pycharm": {
     "name": "#%%\n"
    }
   }
  },
  {
   "cell_type": "code",
   "execution_count": null,
   "outputs": [],
   "source": [],
   "metadata": {
    "collapsed": false,
    "pycharm": {
     "name": "#%%\n"
    }
   }
  }
 ],
 "metadata": {
  "kernelspec": {
   "display_name": "Python 3",
   "language": "python",
   "name": "python3"
  },
  "language_info": {
   "codemirror_mode": {
    "name": "ipython",
    "version": 2
   },
   "file_extension": ".py",
   "mimetype": "text/x-python",
   "name": "python",
   "nbconvert_exporter": "python",
   "pygments_lexer": "ipython2",
   "version": "2.7.6"
  }
 },
 "nbformat": 4,
 "nbformat_minor": 0
}